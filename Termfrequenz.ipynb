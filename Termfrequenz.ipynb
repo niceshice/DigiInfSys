{
 "cells": [
  {
   "cell_type": "code",
   "execution_count": 22,
   "metadata": {},
   "outputs": [
    {
     "data": {
      "text/plain": [
       "0.026543572780610713"
      ]
     },
     "execution_count": 22,
     "metadata": {},
     "output_type": "execute_result"
    }
   ],
   "source": [
    "import re\n",
    "import operator\n",
    "import os\n",
    "import math\n",
    "\n",
    "path = \"D:\\\\cravi\\\\Documentsold\\\\Uni\\\\DH\\\\DigiInfSys\\\\uebung1\\\\erzaehltexte\\\\\"\n",
    "corpus_path = os.listdir(path)\n",
    "\n",
    "def get_term_frequency_doc(doc, term):\n",
    "    with open(path + doc, \"r\", encoding=\"utf8\") as f:\n",
    "        tokens = re.findall(\"\\w+\", f.read().lower())\n",
    "    return tokens.count(term)\n",
    "        \n",
    "def get_max_term(doc):\n",
    "    type_dict = {}\n",
    "    with open(path + doc, \"r\", encoding=\"utf8\") as f:\n",
    "        tokens = re.findall(\"\\w+\", f.read().lower())\n",
    "        for token in tokens:\n",
    "            if token in type_dict:\n",
    "                type_dict[token] += 1\n",
    "            else:\n",
    "                type_dict[token] = 1\n",
    "    all_values = type_dict.values()\n",
    "    return max(all_values)\n",
    "\n",
    "def check_if_doc(corpus, term):\n",
    "    doc_list = []\n",
    "    for doc in corpus_path:\n",
    "        with open(path + doc, \"r\", encoding=\"utf8\") as f:\n",
    "            if term in re.findall(\"\\w+\", f.read().lower()):\n",
    "                doc_list.append(doc)\n",
    "    return len(doc_list)\n",
    "\n",
    "\n",
    "def tf(doc, term):\n",
    "    return get_term_frequency_doc(doc, term) / get_max_term(doc)\n",
    "\n",
    "def idf(corpus, term):\n",
    "    return math.log(len(corpus_path) / check_if_doc(corpus, term))\n",
    "\n",
    "def tf_idf(corpus, doc, term):\n",
    "    return tf(doc, term)*idf(corpus, term)\n"
   ]
  },
  {
   "cell_type": "code",
   "execution_count": 21,
   "metadata": {},
   "outputs": [
    {
     "data": {
      "text/plain": [
       "8"
      ]
     },
     "execution_count": 21,
     "metadata": {},
     "output_type": "execute_result"
    }
   ],
   "source": []
  },
  {
   "cell_type": "code",
   "execution_count": 16,
   "metadata": {},
   "outputs": [
    {
     "data": {
      "text/plain": [
       "1701"
      ]
     },
     "execution_count": 16,
     "metadata": {},
     "output_type": "execute_result"
    }
   ],
   "source": []
  },
  {
   "cell_type": "code",
   "execution_count": null,
   "metadata": {},
   "outputs": [],
   "source": []
  }
 ],
 "metadata": {
  "kernelspec": {
   "display_name": "Python 3",
   "language": "python",
   "name": "python3"
  },
  "language_info": {
   "codemirror_mode": {
    "name": "ipython",
    "version": 3
   },
   "file_extension": ".py",
   "mimetype": "text/x-python",
   "name": "python",
   "nbconvert_exporter": "python",
   "pygments_lexer": "ipython3",
   "version": "3.8.5"
  }
 },
 "nbformat": 4,
 "nbformat_minor": 5
}
